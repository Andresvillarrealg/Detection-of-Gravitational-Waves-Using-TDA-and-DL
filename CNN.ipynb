{
  "cells": [
    {
      "cell_type": "code",
      "execution_count": 1,
      "metadata": {
        "id": "_jp_JkbWyIe3"
      },
      "outputs": [],
      "source": [
        "import numpy as np\n",
        "import tensorflow as tf\n",
        "from tensorflow.keras.models import Sequential\n",
        "from tensorflow.keras.layers import Conv1D, MaxPooling1D, Dense, Flatten, Dropout\n",
        "from tensorflow.keras.optimizers import Adam\n",
        "from tensorflow.keras.regularizers import l2\n",
        "from sklearn.preprocessing import StandardScaler\n",
        "from sklearn.metrics import confusion_matrix, classification_report, roc_curve, auc\n",
        "import matplotlib.pyplot as plt\n",
        "import pickle\n",
        "import glob\n",
        "from tqdm import tqdm"
      ]
    },
    {
      "cell_type": "markdown",
      "metadata": {},
      "source": [
        "## Cargar diagramas de persistencia de ondas gravitacionales"
      ]
    },
    {
      "cell_type": "code",
      "execution_count": 4,
      "metadata": {
        "colab": {
          "base_uri": "https://localhost:8080/"
        },
        "id": "aHqaHLbqOACr",
        "outputId": "379aefa1-cfdb-468e-aca7-e0443cdf3d20"
      },
      "outputs": [
        {
          "name": "stdout",
          "output_type": "stream",
          "text": [
            "Longitud máxima de persistencia determinada: 3897\n"
          ]
        }
      ],
      "source": [
        "import pickle\n",
        "import numpy as np\n",
        "from sklearn.preprocessing import StandardScaler\n",
        "import glob\n",
        "\n",
        "# Función para cargar los diagramas de persistencia de un archivo\n",
        "def load_persistence_diagrams(filename):\n",
        "    with open(filename, 'rb') as f:\n",
        "        return pickle.load(f)\n",
        "\n",
        "# Función para extraer vectores de persistencia\n",
        "def extract_persistence_vectors(diagrams, max_length):\n",
        "    persistence_vectors = np.zeros((2, max_length))\n",
        "    for dim in range(2):\n",
        "        for i, (birth, death) in enumerate(diagrams[dim]):\n",
        "            if i < max_length:\n",
        "                persistence_vectors[dim, i] = death - birth\n",
        "    return persistence_vectors.flatten()\n",
        "\n",
        "# Función para determinar la longitud máxima de los vectores de persistencia\n",
        "def determine_max_persistence_length(diagrams, percentile=95):\n",
        "    lengths = []\n",
        "    for diagram in diagrams:\n",
        "        for dim in range(len(diagram)):\n",
        "            lengths.append(len(diagram[dim]))\n",
        "    return int(np.percentile(lengths, percentile))\n",
        "\n",
        "# Cargar todos los diagramas de persistencia guardados\n",
        "all_persistence_diagrams = []\n",
        "for file in sorted(glob.glob('persistence_diagrams_block_*.pkl')):\n",
        "    diagrams = load_persistence_diagrams(file)\n",
        "    all_persistence_diagrams.extend(diagrams)\n",
        "\n",
        "# Determinar el max_persistence_length basado en los diagramas de persistencia cargados\n",
        "max_persistence_length = determine_max_persistence_length(all_persistence_diagrams, percentile=95)\n",
        "print(f\"Longitud máxima de persistencia determinada: {max_persistence_length}\")\n",
        "\n",
        "# Limitar manualmente la longitud máxima de persistencia si es demasiado grande\n",
        "max_persistence_length = min(max_persistence_length, 500)  # Ajusta este valor según sea necesario\n",
        "\n",
        "# Extraer y normalizar los vectores de persistencia\n",
        "persistence_vectors = [extract_persistence_vectors(d, max_persistence_length) for d in all_persistence_diagrams]\n",
        "\n",
        "# Filtrar valores grandes e infinitos\n",
        "persistence_vectors = np.array(persistence_vectors)\n",
        "persistence_vectors[np.isinf(persistence_vectors)] = np.nan\n",
        "persistence_vectors = np.nan_to_num(persistence_vectors, nan=0.0, posinf=0.0, neginf=0.0)\n",
        "\n",
        "# Normalizar los vectores de persistencia\n",
        "scaler = StandardScaler()\n",
        "normalized_persistence_vectors = scaler.fit_transform(persistence_vectors)\n",
        "\n",
        "# Supongamos que las señales crudas ya están normalizadas y almacenadas en `training_data`\n",
        "# Normalizar las señales crudas (si no lo están)\n",
        "normalized_signals = [scaler.fit_transform(s.reshape(-1, 1)).flatten() for s in training_data]\n",
        "\n",
        "# Concatenar los vectores de persistencia y las señales crudas\n",
        "input_data = [np.concatenate((psv, sig)) for psv, sig in zip(normalized_persistence_vectors, normalized_signals)]\n",
        "\n",
        "# Convertir los datos de entrada a formato numpy array\n",
        "input_data = np.array(input_data)\n",
        "\n",
        "# Crear etiquetas ficticias para la demostración\n",
        "labels = np.array([1 if i % 2 == 0 else 0 for i in range(len(input_data))])\n",
        "\n",
        "# Dividir en conjuntos de entrenamiento y prueba\n",
        "train_size = int(0.8 * len(input_data))\n",
        "x_train, x_test = input_data[:train_size], input_data[train_size:]\n",
        "y_train, y_test = labels[:train_size], labels[train_size:]\n",
        "\n",
        "# Redimensionar los datos para la entrada de la CNN\n",
        "x_train = x_train[..., np.newaxis]\n",
        "x_test = x_test[..., np.newaxis]\n",
        "\n"
      ]
    },
    {
      "cell_type": "code",
      "execution_count": 5,
      "metadata": {
        "colab": {
          "base_uri": "https://localhost:8080/"
        },
        "id": "3zM5eB06vV0D",
        "outputId": "22f66a92-45bd-4265-a92c-cb424fa55aad"
      },
      "outputs": [
        {
          "name": "stdout",
          "output_type": "stream",
          "text": [
            "Distribución de etiquetas: {0: 208, 1: 208}\n"
          ]
        }
      ],
      "source": [
        "# Verificar la distribución de las etiquetas\n",
        "unique, counts = np.unique(labels, return_counts=True)\n",
        "print(f\"Distribución de etiquetas: {dict(zip(unique, counts))}\")\n"
      ]
    },
    {
      "cell_type": "code",
      "execution_count": 6,
      "metadata": {
        "colab": {
          "base_uri": "https://localhost:8080/"
        },
        "id": "HWl__OVSvaAe",
        "outputId": "b1b894b1-dad0-49d1-abfa-4225d7f2d26a"
      },
      "outputs": [
        {
          "name": "stdout",
          "output_type": "stream",
          "text": [
            "Model: \"sequential\"\n",
            "_________________________________________________________________\n",
            " Layer (type)                Output Shape              Param #   \n",
            "=================================================================\n",
            " conv1d (Conv1D)             (None, 5081, 64)          1088      \n",
            "                                                                 \n",
            " max_pooling1d (MaxPooling1  (None, 1270, 64)          0         \n",
            " D)                                                              \n",
            "                                                                 \n",
            " conv1d_1 (Conv1D)           (None, 1255, 128)         131200    \n",
            "                                                                 \n",
            " max_pooling1d_1 (MaxPoolin  (None, 313, 128)          0         \n",
            " g1D)                                                            \n",
            "                                                                 \n",
            " conv1d_2 (Conv1D)           (None, 298, 256)          524544    \n",
            "                                                                 \n",
            " max_pooling1d_2 (MaxPoolin  (None, 74, 256)           0         \n",
            " g1D)                                                            \n",
            "                                                                 \n",
            " flatten (Flatten)           (None, 18944)             0         \n",
            "                                                                 \n",
            " dense (Dense)               (None, 128)               2424960   \n",
            "                                                                 \n",
            " dropout (Dropout)           (None, 128)               0         \n",
            "                                                                 \n",
            " dense_1 (Dense)             (None, 64)                8256      \n",
            "                                                                 \n",
            " dense_2 (Dense)             (None, 1)                 65        \n",
            "                                                                 \n",
            "=================================================================\n",
            "Total params: 3090113 (11.79 MB)\n",
            "Trainable params: 3090113 (11.79 MB)\n",
            "Non-trainable params: 0 (0.00 Byte)\n",
            "_________________________________________________________________\n",
            "Epoch 1/30\n",
            "11/11 [==============================] - 7s 145ms/step - loss: 0.7028 - accuracy: 0.5060 - val_loss: 0.7046 - val_accuracy: 0.5000\n",
            "Epoch 2/30\n",
            "11/11 [==============================] - 0s 14ms/step - loss: 0.7031 - accuracy: 0.5211 - val_loss: 0.6950 - val_accuracy: 0.5000\n",
            "Epoch 3/30\n",
            "11/11 [==============================] - 0s 13ms/step - loss: 0.6936 - accuracy: 0.5211 - val_loss: 0.6914 - val_accuracy: 0.5119\n",
            "Epoch 4/30\n",
            "11/11 [==============================] - 0s 16ms/step - loss: 0.6842 - accuracy: 0.5753 - val_loss: 0.6906 - val_accuracy: 0.5357\n",
            "Epoch 5/30\n",
            "11/11 [==============================] - 0s 13ms/step - loss: 0.6929 - accuracy: 0.4880 - val_loss: 0.6899 - val_accuracy: 0.5238\n",
            "Epoch 6/30\n",
            "11/11 [==============================] - 0s 13ms/step - loss: 0.6899 - accuracy: 0.5392 - val_loss: 0.6893 - val_accuracy: 0.5476\n",
            "Epoch 7/30\n",
            "11/11 [==============================] - 0s 13ms/step - loss: 0.6839 - accuracy: 0.5663 - val_loss: 0.6876 - val_accuracy: 0.5952\n",
            "Epoch 8/30\n",
            "11/11 [==============================] - 0s 13ms/step - loss: 0.6749 - accuracy: 0.5964 - val_loss: 0.6883 - val_accuracy: 0.5119\n",
            "Epoch 9/30\n",
            "11/11 [==============================] - 0s 13ms/step - loss: 0.6728 - accuracy: 0.5994 - val_loss: 0.6834 - val_accuracy: 0.6071\n",
            "Epoch 10/30\n",
            "11/11 [==============================] - 0s 14ms/step - loss: 0.6713 - accuracy: 0.5964 - val_loss: 0.6827 - val_accuracy: 0.5952\n",
            "Epoch 11/30\n",
            "11/11 [==============================] - 0s 16ms/step - loss: 0.6702 - accuracy: 0.6145 - val_loss: 0.6797 - val_accuracy: 0.5952\n",
            "Epoch 12/30\n",
            "11/11 [==============================] - 0s 13ms/step - loss: 0.6640 - accuracy: 0.6235 - val_loss: 0.6796 - val_accuracy: 0.5595\n",
            "Epoch 13/30\n",
            "11/11 [==============================] - 0s 13ms/step - loss: 0.6600 - accuracy: 0.5904 - val_loss: 0.6750 - val_accuracy: 0.5833\n",
            "Epoch 14/30\n",
            "11/11 [==============================] - 0s 13ms/step - loss: 0.6391 - accuracy: 0.7048 - val_loss: 0.6663 - val_accuracy: 0.6190\n",
            "Epoch 15/30\n",
            "11/11 [==============================] - 0s 13ms/step - loss: 0.6319 - accuracy: 0.6747 - val_loss: 0.6637 - val_accuracy: 0.6548\n",
            "Epoch 16/30\n",
            "11/11 [==============================] - 0s 13ms/step - loss: 0.6279 - accuracy: 0.6566 - val_loss: 0.6733 - val_accuracy: 0.5357\n",
            "Epoch 17/30\n",
            "11/11 [==============================] - 0s 16ms/step - loss: 0.6208 - accuracy: 0.6717 - val_loss: 0.6579 - val_accuracy: 0.6310\n",
            "Epoch 18/30\n",
            "11/11 [==============================] - 0s 13ms/step - loss: 0.6009 - accuracy: 0.7259 - val_loss: 0.6372 - val_accuracy: 0.6786\n",
            "Epoch 19/30\n",
            "11/11 [==============================] - 0s 14ms/step - loss: 0.5614 - accuracy: 0.7289 - val_loss: 0.6299 - val_accuracy: 0.6786\n",
            "Epoch 20/30\n",
            "11/11 [==============================] - 0s 13ms/step - loss: 0.5507 - accuracy: 0.7651 - val_loss: 0.6247 - val_accuracy: 0.6786\n",
            "Epoch 21/30\n",
            "11/11 [==============================] - 0s 13ms/step - loss: 0.5282 - accuracy: 0.7741 - val_loss: 0.6172 - val_accuracy: 0.6667\n",
            "Epoch 22/30\n",
            "11/11 [==============================] - 0s 13ms/step - loss: 0.5002 - accuracy: 0.7922 - val_loss: 0.6074 - val_accuracy: 0.7024\n",
            "Epoch 23/30\n",
            "11/11 [==============================] - 0s 14ms/step - loss: 0.4685 - accuracy: 0.8554 - val_loss: 0.5778 - val_accuracy: 0.7500\n",
            "Epoch 24/30\n",
            "11/11 [==============================] - 0s 15ms/step - loss: 0.4526 - accuracy: 0.8494 - val_loss: 0.5806 - val_accuracy: 0.6905\n",
            "Epoch 25/30\n",
            "11/11 [==============================] - 0s 14ms/step - loss: 0.3999 - accuracy: 0.8584 - val_loss: 0.5621 - val_accuracy: 0.7024\n",
            "Epoch 26/30\n",
            "11/11 [==============================] - 0s 13ms/step - loss: 0.3770 - accuracy: 0.9096 - val_loss: 0.5130 - val_accuracy: 0.7738\n",
            "Epoch 27/30\n",
            "11/11 [==============================] - 0s 13ms/step - loss: 0.3162 - accuracy: 0.9307 - val_loss: 0.4959 - val_accuracy: 0.7738\n",
            "Epoch 28/30\n",
            "11/11 [==============================] - 0s 13ms/step - loss: 0.3038 - accuracy: 0.9367 - val_loss: 0.4524 - val_accuracy: 0.8095\n",
            "Epoch 29/30\n",
            "11/11 [==============================] - 0s 13ms/step - loss: 0.2469 - accuracy: 0.9548 - val_loss: 0.4322 - val_accuracy: 0.8333\n",
            "Epoch 30/30\n",
            "11/11 [==============================] - 0s 13ms/step - loss: 0.2003 - accuracy: 0.9759 - val_loss: 0.3977 - val_accuracy: 0.8333\n",
            "3/3 [==============================] - 0s 9ms/step - loss: 0.3977 - accuracy: 0.8333\n",
            "Loss: 0.3977400064468384\n",
            "Accuracy: 0.8333333134651184\n"
          ]
        }
      ],
      "source": [
        "# Ajustar el número de épocas y la tasa de aprendizaje\n",
        "from tensorflow.keras.optimizers import Adam\n",
        "\n",
        "# Definir el modelo\n",
        "model = Sequential([\n",
        "    Conv1D(filters=64, kernel_size=16, strides=1, activation='relu', input_shape=(x_train.shape[1], 1)),\n",
        "    MaxPooling1D(pool_size=4, strides=4),\n",
        "    Conv1D(filters=128, kernel_size=16, strides=1, activation='relu'),\n",
        "    MaxPooling1D(pool_size=4, strides=4),\n",
        "    Conv1D(filters=256, kernel_size=16, strides=1, activation='relu'),\n",
        "    MaxPooling1D(pool_size=4, strides=4),\n",
        "    Flatten(),\n",
        "    Dense(128, activation='relu'),\n",
        "    Dropout(0.5),\n",
        "    Dense(64, activation='relu'),\n",
        "    Dense(1, activation='sigmoid')  # Cambiar la activación a sigmoid para clasificación binaria\n",
        "])\n",
        "\n",
        "# Compilar el modelo con una tasa de aprendizaje más baja\n",
        "model.compile(optimizer=Adam(learning_rate=0.0001), loss='binary_crossentropy', metrics=['accuracy'])  # Cambiar la pérdida a binary_crossentropy\n",
        "\n",
        "# Resumen del modelo\n",
        "model.summary()\n",
        "\n",
        "# Entrenar el modelo con más épocas\n",
        "history = model.fit(x_train, y_train, epochs=30, batch_size=32, validation_data=(x_test, y_test))\n",
        "\n",
        "# Evaluar el modelo\n",
        "loss, accuracy = model.evaluate(x_test, y_test)\n",
        "print(f\"Loss: {loss}\")\n",
        "print(f\"Accuracy: {accuracy}\")\n"
      ]
    },
    {
      "cell_type": "code",
      "execution_count": 7,
      "metadata": {
        "colab": {
          "base_uri": "https://localhost:8080/"
        },
        "id": "y8XJoXdyvm-m",
        "outputId": "297331dc-c822-4fea-8a77-f56c0ae4d8cc"
      },
      "outputs": [
        {
          "name": "stdout",
          "output_type": "stream",
          "text": [
            "3/3 [==============================] - 0s 3ms/step\n",
            "[[39  3]\n",
            " [11 31]]\n",
            "              precision    recall  f1-score   support\n",
            "\n",
            "           0       0.78      0.93      0.85        42\n",
            "           1       0.91      0.74      0.82        42\n",
            "\n",
            "    accuracy                           0.83        84\n",
            "   macro avg       0.85      0.83      0.83        84\n",
            "weighted avg       0.85      0.83      0.83        84\n",
            "\n"
          ]
        }
      ],
      "source": [
        "from sklearn.metrics import confusion_matrix, classification_report\n",
        "\n",
        "# Predicciones del modelo\n",
        "y_pred = (model.predict(x_test) > 0.5).astype(\"int32\")\n",
        "\n",
        "# Matriz de Confusión\n",
        "cm = confusion_matrix(y_test, y_pred)\n",
        "print(cm)\n",
        "\n",
        "# Reporte de Clasificación\n",
        "print(classification_report(y_test, y_pred))\n"
      ]
    },
    {
      "cell_type": "code",
      "execution_count": 8,
      "metadata": {
        "colab": {
          "base_uri": "https://localhost:8080/",
          "height": 489
        },
        "id": "FdLdI3eEvuye",
        "outputId": "20929fe9-f59e-4dc1-a715-e87e84a5bc84"
      },
      "outputs": [
        {
          "name": "stdout",
          "output_type": "stream",
          "text": [
            "3/3 [==============================] - 0s 3ms/step\n"
          ]
        },
        {
          "data": {
            "image/png": "[encoded data removed]",
            "text/plain": [
              "<Figure size 640x480 with 1 Axes>"
            ]
          },
          "metadata": {},
          "output_type": "display_data"
        }
      ],
      "source": [
        "from sklearn.metrics import roc_curve, auc\n",
        "import matplotlib.pyplot as plt\n",
        "\n",
        "# Predicciones de probabilidad\n",
        "y_prob = model.predict(x_test).ravel()\n",
        "\n",
        "# Curva ROC\n",
        "fpr, tpr, thresholds = roc_curve(y_test, y_prob)\n",
        "roc_auc = auc(fpr, tpr)\n",
        "\n",
        "plt.figure()\n",
        "plt.plot(fpr, tpr, color='darkorange', lw=2, label='ROC curve (area = %0.2f)' % roc_auc)\n",
        "plt.plot([0, 1], [0, 1], color='navy', lw=2, linestyle='--')\n",
        "plt.xlim([0.0, 1.0])\n",
        "plt.ylim([0.0, 1.05])\n",
        "plt.xlabel('False Positive Rate')\n",
        "plt.ylabel('True Positive Rate')\n",
        "plt.title('Receiver Operating Characteristic')\n",
        "plt.legend(loc=\"lower right\")\n",
        "plt.show()\n"
      ]
    }
  ],
  "metadata": {
    "accelerator": "GPU",
    "colab": {
      "gpuType": "L4",
      "machine_shape": "hm",
      "provenance": []
    },
    "kernelspec": {
      "display_name": "Python 3",
      "name": "python3"
    },
    "language_info": {
      "name": "python"
    }
  },
  "nbformat": 4,
  "nbformat_minor": 0
}
